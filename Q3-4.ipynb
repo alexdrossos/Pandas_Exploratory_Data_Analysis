{
 "cells": [
  {
   "cell_type": "code",
   "execution_count": 1,
   "id": "02eb3263",
   "metadata": {},
   "outputs": [],
   "source": [
    "#Import all necessary libraries\n",
    "import numpy as np\n",
    "import pandas as pd\n",
    "pd.options.display.float_format = '{:,.2f}'.format\n",
    "import matplotlib.pyplot as plt\n",
    "%matplotlib inline"
   ]
  },
  {
   "cell_type": "markdown",
   "id": "e1b5e2b1",
   "metadata": {},
   "source": [
    "# Question 3:\n",
    "### What has been the overall trend of graduation rates year over year in NYC between males and females?"
   ]
  },
  {
   "cell_type": "markdown",
   "id": "c540c2af",
   "metadata": {},
   "source": [
    "To tackle this subquestion, we’ll just be using the NYC Graduation Rate Database. Currently there’s a separate CSV for each year’s data between 2015-2020. Our first step will be to read each of these CSV files in and concatenate them."
   ]
  },
  {
   "cell_type": "code",
   "execution_count": 2,
   "id": "9f4e5fb8",
   "metadata": {},
   "outputs": [
    {
     "name": "stderr",
     "output_type": "stream",
     "text": [
      "/Users/alexandradrossos/anaconda3/lib/python3.8/site-packages/IPython/core/interactiveshell.py:3165: DtypeWarning: Columns (5,7) have mixed types.Specify dtype option on import or set low_memory=False.\n",
      "  has_raised = await self.run_ast_nodes(code_ast.body, cell_name,\n",
      "/Users/alexandradrossos/anaconda3/lib/python3.8/site-packages/IPython/core/interactiveshell.py:3165: DtypeWarning: Columns (7) have mixed types.Specify dtype option on import or set low_memory=False.\n",
      "  has_raised = await self.run_ast_nodes(code_ast.body, cell_name,\n"
     ]
    }
   ],
   "source": [
    "grad2020 = pd.read_csv(\"GRAD_RATE_AND_OUTCOMES_2020.csv\")\n",
    "grad2019 = pd.read_csv(\"GRAD_RATE_AND_OUTCOMES_2019.csv\")\n",
    "grad2018 = pd.read_csv(\"GRAD_RATE_AND_OUTCOMES_2018.csv\")\n",
    "grad2017 = pd.read_csv(\"GRAD_RATE_AND_OUTCOMES_2017.csv\")\n",
    "grad2016 = pd.read_csv(\"GRAD_RATE_AND_OUTCOMES_2016.csv\")\n",
    "grad2015 = pd.read_csv(\"GRAD_RATE_AND_OUTCOMES_2015.csv\")"
   ]
  },
  {
   "cell_type": "markdown",
   "id": "5addc56c",
   "metadata": {},
   "source": [
    "I noticed in the code documentation that the column names for years 2015-2018 were upper cased, but the 2020 data columns were uppercased. For us to be able to concatenate these, we need to first convert the columns to be all lowercase. "
   ]
  },
  {
   "cell_type": "code",
   "execution_count": 3,
   "id": "c9937d46",
   "metadata": {},
   "outputs": [],
   "source": [
    "grad2018.columns = map(str.lower, grad2018.columns)\n",
    "grad2017.columns = map(str.lower, grad2017.columns)\n",
    "grad2016.columns = map(str.lower, grad2016.columns)\n",
    "grad2015.columns = map(str.lower, grad2015.columns)"
   ]
  },
  {
   "cell_type": "markdown",
   "id": "404a2cfb",
   "metadata": {},
   "source": [
    "Now we can concatenate these CSVs together and check that 2015-2020 are all accounted for in our new dataset. "
   ]
  },
  {
   "cell_type": "code",
   "execution_count": 4,
   "id": "559723c5",
   "metadata": {},
   "outputs": [
    {
     "data": {
      "text/plain": [
       "array(['2014-15', '2015-16', '2016-17', '2017-18', '2018-19', '2019-20'],\n",
       "      dtype=object)"
      ]
     },
     "execution_count": 4,
     "metadata": {},
     "output_type": "execute_result"
    }
   ],
   "source": [
    "gradyears = [grad2015,grad2016,grad2017,grad2018,grad2019,grad2020]\n",
    "yc = pd.concat(gradyears)\n",
    "yc.report_school_year.unique()"
   ]
  },
  {
   "cell_type": "markdown",
   "id": "ef629c04",
   "metadata": {},
   "source": [
    "One more data cleaning step we need to make is changing the school year column to match the police shooting incident data that we will be using in later questions. We'll be using the year of graduation as our reference point. For example, the school year marked 2014-15 will be changed to 2015. We'll now alter those row values for the report_school_year column and check that the output is appropriate for our x axis."
   ]
  },
  {
   "cell_type": "code",
   "execution_count": 5,
   "id": "f1b37fd4",
   "metadata": {},
   "outputs": [
    {
     "data": {
      "text/plain": [
       "array(['2015', '2016', '2017', '2018', '2019', '2020'], dtype=object)"
      ]
     },
     "execution_count": 5,
     "metadata": {},
     "output_type": "execute_result"
    }
   ],
   "source": [
    "yc['report_school_year'] = yc['report_school_year'].replace(['2014-15'],'2015')\n",
    "yc['report_school_year'] = yc['report_school_year'].replace(['2015-16'],'2016')\n",
    "yc['report_school_year'] = yc['report_school_year'].replace(['2016-17'],'2017')\n",
    "yc['report_school_year'] = yc['report_school_year'].replace(['2017-18'],'2018')\n",
    "yc['report_school_year'] = yc['report_school_year'].replace(['2018-19'],'2019')\n",
    "yc['report_school_year'] = yc['report_school_year'].replace(['2019-20'],'2020')\n",
    "yc.report_school_year.unique()"
   ]
  },
  {
   "cell_type": "markdown",
   "id": "0d426f14",
   "metadata": {},
   "source": [
    "Now we can do the real data cleaning. For this analysis, we want to look at the graduation rate at a state level and segment it by gender. To accomplish this our first step will be to just select the rows for each year that are aggregated at the state level, and this can be done by selecting rows with column aggregation_code = 0 (see documentation for more information on this). "
   ]
  },
  {
   "cell_type": "code",
   "execution_count": 6,
   "id": "16f152bd",
   "metadata": {},
   "outputs": [],
   "source": [
    "yc = yc[yc[\"aggregation_index\"] == 0]"
   ]
  },
  {
   "cell_type": "markdown",
   "id": "1527220b",
   "metadata": {},
   "source": [
    "We also only want the graduation rate for students completing their degree in 4 years, meaning we have to only select the rows with membership_code column = 9 (see documentation for more information on this). "
   ]
  },
  {
   "cell_type": "code",
   "execution_count": 7,
   "id": "45b9756b",
   "metadata": {},
   "outputs": [],
   "source": [
    "yc = yc[yc[\"membership_code\"] == 9]"
   ]
  },
  {
   "cell_type": "markdown",
   "id": "87a90b5f",
   "metadata": {},
   "source": [
    "Lastly, we need to find the subgroup_code representing the groups for females and males so that we can see the comparison over the years 2015 to 2020. Let's look at the output for subgroup_code and subgroup_name below."
   ]
  },
  {
   "cell_type": "code",
   "execution_count": 8,
   "id": "eca3aae8",
   "metadata": {},
   "outputs": [
    {
     "data": {
      "text/html": [
       "<div>\n",
       "<style scoped>\n",
       "    .dataframe tbody tr th:only-of-type {\n",
       "        vertical-align: middle;\n",
       "    }\n",
       "\n",
       "    .dataframe tbody tr th {\n",
       "        vertical-align: top;\n",
       "    }\n",
       "\n",
       "    .dataframe thead th {\n",
       "        text-align: right;\n",
       "    }\n",
       "</style>\n",
       "<table border=\"1\" class=\"dataframe\">\n",
       "  <thead>\n",
       "    <tr style=\"text-align: right;\">\n",
       "      <th></th>\n",
       "      <th>subgroup_code</th>\n",
       "      <th>subgroup_name</th>\n",
       "    </tr>\n",
       "  </thead>\n",
       "  <tbody>\n",
       "    <tr>\n",
       "      <th>36</th>\n",
       "      <td>1</td>\n",
       "      <td>All Students</td>\n",
       "    </tr>\n",
       "    <tr>\n",
       "      <th>37</th>\n",
       "      <td>2</td>\n",
       "      <td>Female</td>\n",
       "    </tr>\n",
       "    <tr>\n",
       "      <th>38</th>\n",
       "      <td>3</td>\n",
       "      <td>Male</td>\n",
       "    </tr>\n",
       "    <tr>\n",
       "      <th>39</th>\n",
       "      <td>4</td>\n",
       "      <td>American Indian or Alaska Native</td>\n",
       "    </tr>\n",
       "    <tr>\n",
       "      <th>40</th>\n",
       "      <td>5</td>\n",
       "      <td>Black or African American</td>\n",
       "    </tr>\n",
       "    <tr>\n",
       "      <th>...</th>\n",
       "      <td>...</td>\n",
       "      <td>...</td>\n",
       "    </tr>\n",
       "    <tr>\n",
       "      <th>67</th>\n",
       "      <td>21</td>\n",
       "      <td>Not Homeless</td>\n",
       "    </tr>\n",
       "    <tr>\n",
       "      <th>68</th>\n",
       "      <td>22</td>\n",
       "      <td>In Foster Care</td>\n",
       "    </tr>\n",
       "    <tr>\n",
       "      <th>69</th>\n",
       "      <td>23</td>\n",
       "      <td>Not in Foster Care</td>\n",
       "    </tr>\n",
       "    <tr>\n",
       "      <th>70</th>\n",
       "      <td>24</td>\n",
       "      <td>Parent in Armed Forces</td>\n",
       "    </tr>\n",
       "    <tr>\n",
       "      <th>71</th>\n",
       "      <td>25</td>\n",
       "      <td>Parent Not in Armed Forces</td>\n",
       "    </tr>\n",
       "  </tbody>\n",
       "</table>\n",
       "<p>118 rows × 2 columns</p>\n",
       "</div>"
      ],
      "text/plain": [
       "    subgroup_code                     subgroup_name\n",
       "36              1                      All Students\n",
       "37              2                            Female\n",
       "38              3                              Male\n",
       "39              4  American Indian or Alaska Native\n",
       "40              5         Black or African American\n",
       "..            ...                               ...\n",
       "67             21                      Not Homeless\n",
       "68             22                    In Foster Care\n",
       "69             23                Not in Foster Care\n",
       "70             24            Parent in Armed Forces\n",
       "71             25        Parent Not in Armed Forces\n",
       "\n",
       "[118 rows x 2 columns]"
      ]
     },
     "execution_count": 8,
     "metadata": {},
     "output_type": "execute_result"
    }
   ],
   "source": [
    "yc[['subgroup_code', 'subgroup_name']]"
   ]
  },
  {
   "cell_type": "markdown",
   "id": "d27094df",
   "metadata": {},
   "source": [
    "From the output above, we can see that subgroup_code value of 2 represents the graduation rate among female students, and a subgroup_code value of 3 represents the graduation rate among male students. So let's create two dataframes segmenting between these two groups before we plot. "
   ]
  },
  {
   "cell_type": "code",
   "execution_count": 9,
   "id": "d6cd64ab",
   "metadata": {},
   "outputs": [
    {
     "name": "stderr",
     "output_type": "stream",
     "text": [
      "<ipython-input-9-1cf2221a7278>:3: SettingWithCopyWarning: \n",
      "A value is trying to be set on a copy of a slice from a DataFrame.\n",
      "Try using .loc[row_indexer,col_indexer] = value instead\n",
      "\n",
      "See the caveats in the documentation: https://pandas.pydata.org/pandas-docs/stable/user_guide/indexing.html#returning-a-view-versus-a-copy\n",
      "  yc_f[\"grad_cnt\"] = yc_f[\"grad_cnt\"].astype(str).astype(float)\n",
      "<ipython-input-9-1cf2221a7278>:4: SettingWithCopyWarning: \n",
      "A value is trying to be set on a copy of a slice from a DataFrame.\n",
      "Try using .loc[row_indexer,col_indexer] = value instead\n",
      "\n",
      "See the caveats in the documentation: https://pandas.pydata.org/pandas-docs/stable/user_guide/indexing.html#returning-a-view-versus-a-copy\n",
      "  yc_m[\"grad_cnt\"] = yc_m[\"grad_cnt\"].astype(str).astype(float);\n"
     ]
    }
   ],
   "source": [
    "yc_f = yc[yc[\"subgroup_code\"] == 2]\n",
    "yc_m = yc[yc[\"subgroup_code\"] == 3]\n",
    "yc_f[\"grad_cnt\"] = yc_f[\"grad_cnt\"].astype(str).astype(float)\n",
    "yc_m[\"grad_cnt\"] = yc_m[\"grad_cnt\"].astype(str).astype(float);"
   ]
  },
  {
   "cell_type": "markdown",
   "id": "d0ab93c9",
   "metadata": {},
   "source": [
    "Now that we have our data, we can create the plot for Graduation Rate in NYC from 2015-2020 and try to draw insights from it. "
   ]
  },
  {
   "cell_type": "code",
   "execution_count": 10,
   "id": "5234bf41",
   "metadata": {},
   "outputs": [
    {
     "data": {
      "image/png": "[encoded data removed]",
      "text/plain": [
       "<Figure size 720x360 with 1 Axes>"
      ]
     },
     "metadata": {
      "needs_background": "light"
     },
     "output_type": "display_data"
    }
   ],
   "source": [
    "fig1 = plt.figure(figsize=(10, 5))\n",
    "ax1 = fig1.add_subplot(1,1,1)\n",
    "ax1.plot(yc_f[\"report_school_year\"],yc_f[\"grad_cnt\"], label = 'female')\n",
    "ax1.plot(yc_m[\"report_school_year\"],yc_m[\"grad_cnt\"], label = 'male')\n",
    "ax1.set_title('NYC State Highschool Graduation Count between 2015-2020', fontsize=15)\n",
    "ax1.set_ylabel('Number of Students Graduated', fontsize=13)\n",
    "ax1.set_xlabel('Year', fontsize=13)\n",
    "ax1.set_ylim(70000,100000)\n",
    "plt.legend(fontsize = 13)\n",
    "plt.show()"
   ]
  },
  {
   "cell_type": "markdown",
   "id": "76c2febe",
   "metadata": {},
   "source": [
    "There are two main insights I can see with this plot. Firstly, it's clear that the count of female students graduating is consistently higher than the count of male students graduating year over year. Secondly, both graduation counts for male and female have risen between 2015 and 2020. However, this increase is not very drastic. In the case of female students, between 2015 and 2020 the graduation count only rose from 83,459 to 88,795 which constitutes a 6% increase. Similarly, the male student graduation count only rose from 79,281 to 85,476 which is also a 6% increase. So, this is not a very notable increase."
   ]
  },
  {
   "cell_type": "markdown",
   "id": "b86fc80a",
   "metadata": {},
   "source": [
    "# Question 4:\n",
    "### What relationship do graduation rate and dropout rate have with NYPD shooting incident rates year over year?"
   ]
  },
  {
   "cell_type": "markdown",
   "id": "95181c57",
   "metadata": {},
   "source": [
    "For this question, we already have the graduation rate and dropout rate data cleaned. Now we just need to bring in the NYPD shooting incident data and clean it up for our purposes. To answer this question we'll have two separate plots in our figure, one with dropout count vs. number of police shootings by year and the other with graduation count.  "
   ]
  },
  {
   "cell_type": "markdown",
   "id": "dba5432a",
   "metadata": {},
   "source": [
    "First, we must create a new dataframe from the graduation rate data representing all students for a particular year, thereby removing the filter that separated female and male students used in Question 3. The subgroup_code representing all students was determined to be 1, so we will filter on this value and then pull the graduation count and dropout count columns from there. See output data below."
   ]
  },
  {
   "cell_type": "code",
   "execution_count": 11,
   "id": "6719bc57",
   "metadata": {},
   "outputs": [
    {
     "data": {
      "text/html": [
       "<div>\n",
       "<style scoped>\n",
       "    .dataframe tbody tr th:only-of-type {\n",
       "        vertical-align: middle;\n",
       "    }\n",
       "\n",
       "    .dataframe tbody tr th {\n",
       "        vertical-align: top;\n",
       "    }\n",
       "\n",
       "    .dataframe thead th {\n",
       "        text-align: right;\n",
       "    }\n",
       "</style>\n",
       "<table border=\"1\" class=\"dataframe\">\n",
       "  <thead>\n",
       "    <tr style=\"text-align: right;\">\n",
       "      <th></th>\n",
       "      <th>report_school_year</th>\n",
       "      <th>grad_cnt</th>\n",
       "      <th>dropout_cnt</th>\n",
       "    </tr>\n",
       "  </thead>\n",
       "  <tbody>\n",
       "    <tr>\n",
       "      <th>36</th>\n",
       "      <td>2015</td>\n",
       "      <td>162740</td>\n",
       "      <td>13840</td>\n",
       "    </tr>\n",
       "    <tr>\n",
       "      <th>34</th>\n",
       "      <td>2016</td>\n",
       "      <td>165880</td>\n",
       "      <td>13431</td>\n",
       "    </tr>\n",
       "    <tr>\n",
       "      <th>34</th>\n",
       "      <td>2017</td>\n",
       "      <td>166047</td>\n",
       "      <td>12927</td>\n",
       "    </tr>\n",
       "    <tr>\n",
       "      <th>36</th>\n",
       "      <td>2018</td>\n",
       "      <td>169325</td>\n",
       "      <td>12736</td>\n",
       "    </tr>\n",
       "    <tr>\n",
       "      <th>48</th>\n",
       "      <td>2019</td>\n",
       "      <td>168688</td>\n",
       "      <td>12830</td>\n",
       "    </tr>\n",
       "    <tr>\n",
       "      <th>48</th>\n",
       "      <td>2020</td>\n",
       "      <td>174271</td>\n",
       "      <td>10580</td>\n",
       "    </tr>\n",
       "  </tbody>\n",
       "</table>\n",
       "</div>"
      ],
      "text/plain": [
       "   report_school_year grad_cnt dropout_cnt\n",
       "36               2015   162740       13840\n",
       "34               2016   165880       13431\n",
       "34               2017   166047       12927\n",
       "36               2018   169325       12736\n",
       "48               2019   168688       12830\n",
       "48               2020   174271       10580"
      ]
     },
     "execution_count": 11,
     "metadata": {},
     "output_type": "execute_result"
    }
   ],
   "source": [
    "gr_all = yc[yc[\"subgroup_code\"] == 1]\n",
    "gr_all[['report_school_year','grad_cnt','dropout_cnt']]"
   ]
  },
  {
   "cell_type": "markdown",
   "id": "2cb6e871",
   "metadata": {},
   "source": [
    "Now let's read in the NYPD shooting incident data and take a look at some of the rows. "
   ]
  },
  {
   "cell_type": "code",
   "execution_count": 12,
   "id": "d4e94fd8",
   "metadata": {},
   "outputs": [
    {
     "data": {
      "text/html": [
       "<div>\n",
       "<style scoped>\n",
       "    .dataframe tbody tr th:only-of-type {\n",
       "        vertical-align: middle;\n",
       "    }\n",
       "\n",
       "    .dataframe tbody tr th {\n",
       "        vertical-align: top;\n",
       "    }\n",
       "\n",
       "    .dataframe thead th {\n",
       "        text-align: right;\n",
       "    }\n",
       "</style>\n",
       "<table border=\"1\" class=\"dataframe\">\n",
       "  <thead>\n",
       "    <tr style=\"text-align: right;\">\n",
       "      <th></th>\n",
       "      <th>INCIDENT_KEY</th>\n",
       "      <th>OCCUR_DATE</th>\n",
       "      <th>OCCUR_TIME</th>\n",
       "      <th>BORO</th>\n",
       "      <th>PRECINCT</th>\n",
       "      <th>JURISDICTION_CODE</th>\n",
       "      <th>LOCATION_DESC</th>\n",
       "      <th>STATISTICAL_MURDER_FLAG</th>\n",
       "      <th>PERP_AGE_GROUP</th>\n",
       "      <th>PERP_SEX</th>\n",
       "      <th>PERP_RACE</th>\n",
       "      <th>VIC_AGE_GROUP</th>\n",
       "      <th>VIC_SEX</th>\n",
       "      <th>VIC_RACE</th>\n",
       "      <th>X_COORD_CD</th>\n",
       "      <th>Y_COORD_CD</th>\n",
       "      <th>Latitude</th>\n",
       "      <th>Longitude</th>\n",
       "      <th>Lon_Lat</th>\n",
       "    </tr>\n",
       "  </thead>\n",
       "  <tbody>\n",
       "    <tr>\n",
       "      <th>0</th>\n",
       "      <td>201575314</td>\n",
       "      <td>08/23/2019</td>\n",
       "      <td>22:10:00</td>\n",
       "      <td>QUEENS</td>\n",
       "      <td>103</td>\n",
       "      <td>0.00</td>\n",
       "      <td>NaN</td>\n",
       "      <td>False</td>\n",
       "      <td>NaN</td>\n",
       "      <td>NaN</td>\n",
       "      <td>NaN</td>\n",
       "      <td>25-44</td>\n",
       "      <td>M</td>\n",
       "      <td>BLACK</td>\n",
       "      <td>1037451</td>\n",
       "      <td>193561</td>\n",
       "      <td>40.70</td>\n",
       "      <td>-73.81</td>\n",
       "      <td>POINT (-73.80814071699996 40.697805308000056)</td>\n",
       "    </tr>\n",
       "    <tr>\n",
       "      <th>1</th>\n",
       "      <td>205748546</td>\n",
       "      <td>11/27/2019</td>\n",
       "      <td>15:54:00</td>\n",
       "      <td>BRONX</td>\n",
       "      <td>40</td>\n",
       "      <td>0.00</td>\n",
       "      <td>NaN</td>\n",
       "      <td>False</td>\n",
       "      <td>&lt;18</td>\n",
       "      <td>M</td>\n",
       "      <td>BLACK</td>\n",
       "      <td>25-44</td>\n",
       "      <td>F</td>\n",
       "      <td>BLACK</td>\n",
       "      <td>1006789</td>\n",
       "      <td>237559</td>\n",
       "      <td>40.82</td>\n",
       "      <td>-73.92</td>\n",
       "      <td>POINT (-73.91857061799993 40.81869973000005)</td>\n",
       "    </tr>\n",
       "    <tr>\n",
       "      <th>2</th>\n",
       "      <td>193118596</td>\n",
       "      <td>02/02/2019</td>\n",
       "      <td>19:40:00</td>\n",
       "      <td>MANHATTAN</td>\n",
       "      <td>23</td>\n",
       "      <td>0.00</td>\n",
       "      <td>NaN</td>\n",
       "      <td>False</td>\n",
       "      <td>18-24</td>\n",
       "      <td>M</td>\n",
       "      <td>WHITE HISPANIC</td>\n",
       "      <td>18-24</td>\n",
       "      <td>M</td>\n",
       "      <td>BLACK HISPANIC</td>\n",
       "      <td>999347</td>\n",
       "      <td>227795</td>\n",
       "      <td>40.79</td>\n",
       "      <td>-73.95</td>\n",
       "      <td>POINT (-73.94547965999999 40.791916091000076)</td>\n",
       "    </tr>\n",
       "    <tr>\n",
       "      <th>3</th>\n",
       "      <td>204192600</td>\n",
       "      <td>10/24/2019</td>\n",
       "      <td>00:52:00</td>\n",
       "      <td>STATEN ISLAND</td>\n",
       "      <td>121</td>\n",
       "      <td>0.00</td>\n",
       "      <td>PVT HOUSE</td>\n",
       "      <td>True</td>\n",
       "      <td>25-44</td>\n",
       "      <td>M</td>\n",
       "      <td>BLACK</td>\n",
       "      <td>25-44</td>\n",
       "      <td>F</td>\n",
       "      <td>BLACK</td>\n",
       "      <td>938149</td>\n",
       "      <td>171781</td>\n",
       "      <td>40.64</td>\n",
       "      <td>-74.17</td>\n",
       "      <td>POINT (-74.16610830199996 40.63806398200006)</td>\n",
       "    </tr>\n",
       "    <tr>\n",
       "      <th>4</th>\n",
       "      <td>201483468</td>\n",
       "      <td>08/22/2019</td>\n",
       "      <td>18:03:00</td>\n",
       "      <td>BRONX</td>\n",
       "      <td>46</td>\n",
       "      <td>0.00</td>\n",
       "      <td>NaN</td>\n",
       "      <td>False</td>\n",
       "      <td>25-44</td>\n",
       "      <td>M</td>\n",
       "      <td>BLACK HISPANIC</td>\n",
       "      <td>18-24</td>\n",
       "      <td>M</td>\n",
       "      <td>BLACK</td>\n",
       "      <td>1008224</td>\n",
       "      <td>250621</td>\n",
       "      <td>40.85</td>\n",
       "      <td>-73.91</td>\n",
       "      <td>POINT (-73.91333944399999 40.85454734900003)</td>\n",
       "    </tr>\n",
       "  </tbody>\n",
       "</table>\n",
       "</div>"
      ],
      "text/plain": [
       "   INCIDENT_KEY  OCCUR_DATE OCCUR_TIME           BORO  PRECINCT  \\\n",
       "0     201575314  08/23/2019   22:10:00         QUEENS       103   \n",
       "1     205748546  11/27/2019   15:54:00          BRONX        40   \n",
       "2     193118596  02/02/2019   19:40:00      MANHATTAN        23   \n",
       "3     204192600  10/24/2019   00:52:00  STATEN ISLAND       121   \n",
       "4     201483468  08/22/2019   18:03:00          BRONX        46   \n",
       "\n",
       "   JURISDICTION_CODE LOCATION_DESC  STATISTICAL_MURDER_FLAG PERP_AGE_GROUP  \\\n",
       "0               0.00           NaN                    False            NaN   \n",
       "1               0.00           NaN                    False            <18   \n",
       "2               0.00           NaN                    False          18-24   \n",
       "3               0.00     PVT HOUSE                     True          25-44   \n",
       "4               0.00           NaN                    False          25-44   \n",
       "\n",
       "  PERP_SEX       PERP_RACE VIC_AGE_GROUP VIC_SEX        VIC_RACE X_COORD_CD  \\\n",
       "0      NaN             NaN         25-44       M           BLACK    1037451   \n",
       "1        M           BLACK         25-44       F           BLACK    1006789   \n",
       "2        M  WHITE HISPANIC         18-24       M  BLACK HISPANIC     999347   \n",
       "3        M           BLACK         25-44       F           BLACK     938149   \n",
       "4        M  BLACK HISPANIC         18-24       M           BLACK    1008224   \n",
       "\n",
       "  Y_COORD_CD  Latitude  Longitude  \\\n",
       "0     193561     40.70     -73.81   \n",
       "1     237559     40.82     -73.92   \n",
       "2     227795     40.79     -73.95   \n",
       "3     171781     40.64     -74.17   \n",
       "4     250621     40.85     -73.91   \n",
       "\n",
       "                                         Lon_Lat  \n",
       "0  POINT (-73.80814071699996 40.697805308000056)  \n",
       "1   POINT (-73.91857061799993 40.81869973000005)  \n",
       "2  POINT (-73.94547965999999 40.791916091000076)  \n",
       "3   POINT (-74.16610830199996 40.63806398200006)  \n",
       "4   POINT (-73.91333944399999 40.85454734900003)  "
      ]
     },
     "execution_count": 12,
     "metadata": {},
     "output_type": "execute_result"
    }
   ],
   "source": [
    "shootings = pd.read_csv(\"NYPD_Shooting_Incident_Data__Historic_.csv\")\n",
    "shootings.head()"
   ]
  },
  {
   "cell_type": "markdown",
   "id": "7f726e7c",
   "metadata": {},
   "source": [
    "It looks like each row accounts for a shooting incident and has the date. What we'll need to do to refactor this data into the form for our plot is get the count of rows by year. To do that, I'll need to pull the year out of the OCCUR_DATE column and then use value_counts(). We also need to filter this data to only show values starting in 2015, because this data goes back a lot farther. See the transformed output below:"
   ]
  },
  {
   "cell_type": "code",
   "execution_count": 13,
   "id": "c1e58b20",
   "metadata": {},
   "outputs": [
    {
     "data": {
      "text/html": [
       "<div>\n",
       "<style scoped>\n",
       "    .dataframe tbody tr th:only-of-type {\n",
       "        vertical-align: middle;\n",
       "    }\n",
       "\n",
       "    .dataframe tbody tr th {\n",
       "        vertical-align: top;\n",
       "    }\n",
       "\n",
       "    .dataframe thead th {\n",
       "        text-align: right;\n",
       "    }\n",
       "</style>\n",
       "<table border=\"1\" class=\"dataframe\">\n",
       "  <thead>\n",
       "    <tr style=\"text-align: right;\">\n",
       "      <th></th>\n",
       "      <th>Year</th>\n",
       "      <th>Num_Shootings</th>\n",
       "    </tr>\n",
       "  </thead>\n",
       "  <tbody>\n",
       "    <tr>\n",
       "      <th>9</th>\n",
       "      <td>2015</td>\n",
       "      <td>1434</td>\n",
       "    </tr>\n",
       "    <tr>\n",
       "      <th>11</th>\n",
       "      <td>2016</td>\n",
       "      <td>1208</td>\n",
       "    </tr>\n",
       "    <tr>\n",
       "      <th>12</th>\n",
       "      <td>2017</td>\n",
       "      <td>969</td>\n",
       "    </tr>\n",
       "    <tr>\n",
       "      <th>14</th>\n",
       "      <td>2018</td>\n",
       "      <td>951</td>\n",
       "    </tr>\n",
       "    <tr>\n",
       "      <th>13</th>\n",
       "      <td>2019</td>\n",
       "      <td>967</td>\n",
       "    </tr>\n",
       "    <tr>\n",
       "      <th>2</th>\n",
       "      <td>2020</td>\n",
       "      <td>1942</td>\n",
       "    </tr>\n",
       "  </tbody>\n",
       "</table>\n",
       "</div>"
      ],
      "text/plain": [
       "    Year  Num_Shootings\n",
       "9   2015           1434\n",
       "11  2016           1208\n",
       "12  2017            969\n",
       "14  2018            951\n",
       "13  2019            967\n",
       "2   2020           1942"
      ]
     },
     "execution_count": 13,
     "metadata": {},
     "output_type": "execute_result"
    }
   ],
   "source": [
    "shootings['year'] = pd.DatetimeIndex(shootings['OCCUR_DATE']).year\n",
    "shootings_by_year = pd.DataFrame(shootings.year.value_counts().reset_index().values, columns=[\"Year\", \"Num_Shootings\"])\n",
    "shootings_filtered = shootings_by_year[shootings_by_year['Year'] >= 2015]\n",
    "shootings_filtered.sort_values('Year')"
   ]
  },
  {
   "cell_type": "markdown",
   "id": "d9ed64d9",
   "metadata": {},
   "source": [
    "Now we'll join the two outputs together on the year column. However, for the join to work, we have to rename the graduation year column to match the police shooting incident data year column. In addition, the type of the year column must both be integers. We'll make these last cleaning changes below."
   ]
  },
  {
   "cell_type": "code",
   "execution_count": 14,
   "id": "0ead1d00",
   "metadata": {},
   "outputs": [],
   "source": [
    "gr_all = gr_all.rename(columns={\"report_school_year\": \"Year\"})\n",
    "gr_all[\"Year\"] = gr_all[\"Year\"].astype(str).astype(int)\n",
    "gr_all[\"dropout_cnt\"] = gr_all[\"dropout_cnt\"].astype(str).astype(int)"
   ]
  },
  {
   "cell_type": "code",
   "execution_count": 15,
   "id": "84aa1192",
   "metadata": {},
   "outputs": [
    {
     "data": {
      "text/html": [
       "<div>\n",
       "<style scoped>\n",
       "    .dataframe tbody tr th:only-of-type {\n",
       "        vertical-align: middle;\n",
       "    }\n",
       "\n",
       "    .dataframe tbody tr th {\n",
       "        vertical-align: top;\n",
       "    }\n",
       "\n",
       "    .dataframe thead th {\n",
       "        text-align: right;\n",
       "    }\n",
       "</style>\n",
       "<table border=\"1\" class=\"dataframe\">\n",
       "  <thead>\n",
       "    <tr style=\"text-align: right;\">\n",
       "      <th></th>\n",
       "      <th>Year</th>\n",
       "      <th>grad_cnt</th>\n",
       "      <th>dropout_cnt</th>\n",
       "      <th>Num_Shootings</th>\n",
       "    </tr>\n",
       "  </thead>\n",
       "  <tbody>\n",
       "    <tr>\n",
       "      <th>0</th>\n",
       "      <td>2015</td>\n",
       "      <td>162740</td>\n",
       "      <td>13840</td>\n",
       "      <td>1434</td>\n",
       "    </tr>\n",
       "    <tr>\n",
       "      <th>1</th>\n",
       "      <td>2016</td>\n",
       "      <td>165880</td>\n",
       "      <td>13431</td>\n",
       "      <td>1208</td>\n",
       "    </tr>\n",
       "    <tr>\n",
       "      <th>2</th>\n",
       "      <td>2017</td>\n",
       "      <td>166047</td>\n",
       "      <td>12927</td>\n",
       "      <td>969</td>\n",
       "    </tr>\n",
       "    <tr>\n",
       "      <th>3</th>\n",
       "      <td>2018</td>\n",
       "      <td>169325</td>\n",
       "      <td>12736</td>\n",
       "      <td>951</td>\n",
       "    </tr>\n",
       "    <tr>\n",
       "      <th>4</th>\n",
       "      <td>2019</td>\n",
       "      <td>168688</td>\n",
       "      <td>12830</td>\n",
       "      <td>967</td>\n",
       "    </tr>\n",
       "    <tr>\n",
       "      <th>5</th>\n",
       "      <td>2020</td>\n",
       "      <td>174271</td>\n",
       "      <td>10580</td>\n",
       "      <td>1942</td>\n",
       "    </tr>\n",
       "  </tbody>\n",
       "</table>\n",
       "</div>"
      ],
      "text/plain": [
       "   Year grad_cnt  dropout_cnt  Num_Shootings\n",
       "0  2015   162740        13840           1434\n",
       "1  2016   165880        13431           1208\n",
       "2  2017   166047        12927            969\n",
       "3  2018   169325        12736            951\n",
       "4  2019   168688        12830            967\n",
       "5  2020   174271        10580           1942"
      ]
     },
     "execution_count": 15,
     "metadata": {},
     "output_type": "execute_result"
    }
   ],
   "source": [
    "#Grad data merged with shooting data\n",
    "out = pd.merge(gr_all,shootings_filtered,on='Year')\n",
    "out[['Year','grad_cnt','dropout_cnt','Num_Shootings']]"
   ]
  },
  {
   "cell_type": "markdown",
   "id": "83793b9d",
   "metadata": {},
   "source": [
    "Using the data above, we can plot."
   ]
  },
  {
   "cell_type": "code",
   "execution_count": 17,
   "id": "0d273775",
   "metadata": {},
   "outputs": [
    {
     "data": {
      "image/png": "[encoded data removed]",
      "text/plain": [
       "<Figure size 1080x288 with 2 Axes>"
      ]
     },
     "metadata": {
      "needs_background": "light"
     },
     "output_type": "display_data"
    }
   ],
   "source": [
    "fig2 = plt.figure(figsize=(15, 4))\n",
    "ax = fig2.add_subplot(121)\n",
    "ax2 = fig2.add_subplot(122)\n",
    "\n",
    "ax.set_title('NYC Graduation Count vs. Police Shootings Between 2015-2020')\n",
    "ax.scatter('grad_cnt', 'Num_Shootings', data = out)\n",
    "ax.set_ylabel('Count of Police Shooting Incidents')\n",
    "ax.set_xlabel('Graduation Count')\n",
    "\n",
    "for i in range(out.shape[0]):\n",
    "    ax.text(x = out.grad_cnt[i], y = out.Num_Shootings[i], s = out.Year[i])\n",
    "\n",
    "ax2.set_title('NYC Dropout Count vs. Police Shootings Between 2015-2020')\n",
    "ax2.scatter(out.dropout_cnt, out.Num_Shootings)\n",
    "ax2.set_ylabel('Count of Police Shooting Incidents')\n",
    "ax2.set_xlabel('Dropout Count')\n",
    "ax2.text(x = out.dropout_cnt[out.Year == 2020] + 40, y = out.Num_Shootings[out.Year == 2020], s = \"2020\")\n",
    "ax2.text(x = out.dropout_cnt[out.Year == 2016] + 40, y = out.Num_Shootings[out.Year == 2016], s = \"2016\")\n",
    "ax2.text(x = out.dropout_cnt[out.Year == 2015] - 300, y = out.Num_Shootings[out.Year == 2015], s = \"2015\")\n",
    "ax2.annotate(\"2019,2018,2017\", xy = (12830, 1000), \n",
    "            xytext = (12830-400, 1000+300),\n",
    "            arrowprops=dict(facecolor='black', shrink=0.05))\n",
    "plt.show()"
   ]
  },
  {
   "cell_type": "markdown",
   "id": "b22dd3b0",
   "metadata": {},
   "source": [
    "These plots show many insights. On the left hand plot, we can clearly see that first of all, graduation counts are increasing year over year (this was also shown in Q3). However, now we can also see the relationship between high school graduation count and shooting incidents. Between 2015 and 2019, as graduation counts increase, the number of police shootings decreased by almost 28%. That's a significant decrease. Now of course, we can't discount that there are certaintly other factors at play here, but this is still an interesting finding. We can also see that in 2020, when graduation rates were at their highest, the number of police shooting incidents also shot up. This holds up logically as we've seen crime spike especially in NYC during COVID. The findings from the right plot are more just sanity checks, and they hold up. The dropout count has been decreasing from 2015-2020 and as have police shooting incidents, apart from 2020. "
   ]
  },
  {
   "cell_type": "code",
   "execution_count": null,
   "id": "f579b3bf",
   "metadata": {},
   "outputs": [],
   "source": []
  }
 ],
 "metadata": {
  "kernelspec": {
   "display_name": "Python 3",
   "language": "python",
   "name": "python3"
  },
  "language_info": {
   "codemirror_mode": {
    "name": "ipython",
    "version": 3
   },
   "file_extension": ".py",
   "mimetype": "text/x-python",
   "name": "python",
   "nbconvert_exporter": "python",
   "pygments_lexer": "ipython3",
   "version": "3.8.10"
  }
 },
 "nbformat": 4,
 "nbformat_minor": 5
}
