{
 "cells": [
  {
   "cell_type": "code",
   "execution_count": 2,
   "metadata": {},
   "outputs": [],
   "source": [
    "#Import all necessary libraries\n",
    "import numpy as np\n",
    "import pandas as pd\n",
    "pd.options.display.float_format = '{:,.2f}'.format\n",
    "import matplotlib.pyplot as plt\n",
    "%matplotlib inline\n",
    "plt.rcParams.update({'font.size': 12})"
   ]
  },
  {
   "cell_type": "markdown",
   "metadata": {},
   "source": [
    "# Q1: What has the overall trend of shootings year over year been in NYC?"
   ]
  },
  {
   "cell_type": "code",
   "execution_count": 3,
   "metadata": {},
   "outputs": [
    {
     "data": {
      "text/html": [
       "<div>\n",
       "<style scoped>\n",
       "    .dataframe tbody tr th:only-of-type {\n",
       "        vertical-align: middle;\n",
       "    }\n",
       "\n",
       "    .dataframe tbody tr th {\n",
       "        vertical-align: top;\n",
       "    }\n",
       "\n",
       "    .dataframe thead th {\n",
       "        text-align: right;\n",
       "    }\n",
       "</style>\n",
       "<table border=\"1\" class=\"dataframe\">\n",
       "  <thead>\n",
       "    <tr style=\"text-align: right;\">\n",
       "      <th></th>\n",
       "      <th>INCIDENT_KEY</th>\n",
       "      <th>OCCUR_DATE</th>\n",
       "      <th>OCCUR_TIME</th>\n",
       "      <th>BORO</th>\n",
       "      <th>PRECINCT</th>\n",
       "      <th>JURISDICTION_CODE</th>\n",
       "      <th>LOCATION_DESC</th>\n",
       "      <th>STATISTICAL_MURDER_FLAG</th>\n",
       "      <th>PERP_AGE_GROUP</th>\n",
       "      <th>PERP_SEX</th>\n",
       "      <th>PERP_RACE</th>\n",
       "      <th>VIC_AGE_GROUP</th>\n",
       "      <th>VIC_SEX</th>\n",
       "      <th>VIC_RACE</th>\n",
       "      <th>X_COORD_CD</th>\n",
       "      <th>Y_COORD_CD</th>\n",
       "      <th>Latitude</th>\n",
       "      <th>Longitude</th>\n",
       "      <th>Lon_Lat</th>\n",
       "    </tr>\n",
       "  </thead>\n",
       "  <tbody>\n",
       "    <tr>\n",
       "      <th>0</th>\n",
       "      <td>201575314</td>\n",
       "      <td>08/23/2019</td>\n",
       "      <td>22:10:00</td>\n",
       "      <td>QUEENS</td>\n",
       "      <td>103</td>\n",
       "      <td>0.00</td>\n",
       "      <td>NaN</td>\n",
       "      <td>False</td>\n",
       "      <td>NaN</td>\n",
       "      <td>NaN</td>\n",
       "      <td>NaN</td>\n",
       "      <td>25-44</td>\n",
       "      <td>M</td>\n",
       "      <td>BLACK</td>\n",
       "      <td>1037451</td>\n",
       "      <td>193561</td>\n",
       "      <td>40.70</td>\n",
       "      <td>-73.81</td>\n",
       "      <td>POINT (-73.80814071699996 40.697805308000056)</td>\n",
       "    </tr>\n",
       "    <tr>\n",
       "      <th>1</th>\n",
       "      <td>205748546</td>\n",
       "      <td>11/27/2019</td>\n",
       "      <td>15:54:00</td>\n",
       "      <td>BRONX</td>\n",
       "      <td>40</td>\n",
       "      <td>0.00</td>\n",
       "      <td>NaN</td>\n",
       "      <td>False</td>\n",
       "      <td>&lt;18</td>\n",
       "      <td>M</td>\n",
       "      <td>BLACK</td>\n",
       "      <td>25-44</td>\n",
       "      <td>F</td>\n",
       "      <td>BLACK</td>\n",
       "      <td>1006789</td>\n",
       "      <td>237559</td>\n",
       "      <td>40.82</td>\n",
       "      <td>-73.92</td>\n",
       "      <td>POINT (-73.91857061799993 40.81869973000005)</td>\n",
       "    </tr>\n",
       "    <tr>\n",
       "      <th>2</th>\n",
       "      <td>193118596</td>\n",
       "      <td>02/02/2019</td>\n",
       "      <td>19:40:00</td>\n",
       "      <td>MANHATTAN</td>\n",
       "      <td>23</td>\n",
       "      <td>0.00</td>\n",
       "      <td>NaN</td>\n",
       "      <td>False</td>\n",
       "      <td>18-24</td>\n",
       "      <td>M</td>\n",
       "      <td>WHITE HISPANIC</td>\n",
       "      <td>18-24</td>\n",
       "      <td>M</td>\n",
       "      <td>BLACK HISPANIC</td>\n",
       "      <td>999347</td>\n",
       "      <td>227795</td>\n",
       "      <td>40.79</td>\n",
       "      <td>-73.95</td>\n",
       "      <td>POINT (-73.94547965999999 40.791916091000076)</td>\n",
       "    </tr>\n",
       "    <tr>\n",
       "      <th>3</th>\n",
       "      <td>204192600</td>\n",
       "      <td>10/24/2019</td>\n",
       "      <td>00:52:00</td>\n",
       "      <td>STATEN ISLAND</td>\n",
       "      <td>121</td>\n",
       "      <td>0.00</td>\n",
       "      <td>PVT HOUSE</td>\n",
       "      <td>True</td>\n",
       "      <td>25-44</td>\n",
       "      <td>M</td>\n",
       "      <td>BLACK</td>\n",
       "      <td>25-44</td>\n",
       "      <td>F</td>\n",
       "      <td>BLACK</td>\n",
       "      <td>938149</td>\n",
       "      <td>171781</td>\n",
       "      <td>40.64</td>\n",
       "      <td>-74.17</td>\n",
       "      <td>POINT (-74.16610830199996 40.63806398200006)</td>\n",
       "    </tr>\n",
       "    <tr>\n",
       "      <th>4</th>\n",
       "      <td>201483468</td>\n",
       "      <td>08/22/2019</td>\n",
       "      <td>18:03:00</td>\n",
       "      <td>BRONX</td>\n",
       "      <td>46</td>\n",
       "      <td>0.00</td>\n",
       "      <td>NaN</td>\n",
       "      <td>False</td>\n",
       "      <td>25-44</td>\n",
       "      <td>M</td>\n",
       "      <td>BLACK HISPANIC</td>\n",
       "      <td>18-24</td>\n",
       "      <td>M</td>\n",
       "      <td>BLACK</td>\n",
       "      <td>1008224</td>\n",
       "      <td>250621</td>\n",
       "      <td>40.85</td>\n",
       "      <td>-73.91</td>\n",
       "      <td>POINT (-73.91333944399999 40.85454734900003)</td>\n",
       "    </tr>\n",
       "  </tbody>\n",
       "</table>\n",
       "</div>"
      ],
      "text/plain": [
       "   INCIDENT_KEY  OCCUR_DATE OCCUR_TIME           BORO  PRECINCT  \\\n",
       "0     201575314  08/23/2019   22:10:00         QUEENS       103   \n",
       "1     205748546  11/27/2019   15:54:00          BRONX        40   \n",
       "2     193118596  02/02/2019   19:40:00      MANHATTAN        23   \n",
       "3     204192600  10/24/2019   00:52:00  STATEN ISLAND       121   \n",
       "4     201483468  08/22/2019   18:03:00          BRONX        46   \n",
       "\n",
       "   JURISDICTION_CODE LOCATION_DESC  STATISTICAL_MURDER_FLAG PERP_AGE_GROUP  \\\n",
       "0               0.00           NaN                    False            NaN   \n",
       "1               0.00           NaN                    False            <18   \n",
       "2               0.00           NaN                    False          18-24   \n",
       "3               0.00     PVT HOUSE                     True          25-44   \n",
       "4               0.00           NaN                    False          25-44   \n",
       "\n",
       "  PERP_SEX       PERP_RACE VIC_AGE_GROUP VIC_SEX        VIC_RACE X_COORD_CD  \\\n",
       "0      NaN             NaN         25-44       M           BLACK    1037451   \n",
       "1        M           BLACK         25-44       F           BLACK    1006789   \n",
       "2        M  WHITE HISPANIC         18-24       M  BLACK HISPANIC     999347   \n",
       "3        M           BLACK         25-44       F           BLACK     938149   \n",
       "4        M  BLACK HISPANIC         18-24       M           BLACK    1008224   \n",
       "\n",
       "  Y_COORD_CD  Latitude  Longitude  \\\n",
       "0     193561     40.70     -73.81   \n",
       "1     237559     40.82     -73.92   \n",
       "2     227795     40.79     -73.95   \n",
       "3     171781     40.64     -74.17   \n",
       "4     250621     40.85     -73.91   \n",
       "\n",
       "                                         Lon_Lat  \n",
       "0  POINT (-73.80814071699996 40.697805308000056)  \n",
       "1   POINT (-73.91857061799993 40.81869973000005)  \n",
       "2  POINT (-73.94547965999999 40.791916091000076)  \n",
       "3   POINT (-74.16610830199996 40.63806398200006)  \n",
       "4   POINT (-73.91333944399999 40.85454734900003)  "
      ]
     },
     "execution_count": 3,
     "metadata": {},
     "output_type": "execute_result"
    }
   ],
   "source": [
    "#import data\n",
    "shootings = pd.read_csv(\"NYPD_Shooting_Incident_Data__Historic_.csv\")\n",
    "shootings.head()"
   ]
  },
  {
   "cell_type": "code",
   "execution_count": 4,
   "metadata": {},
   "outputs": [
    {
     "data": {
      "text/plain": [
       "Index(['INCIDENT_KEY', 'OCCUR_DATE', 'OCCUR_TIME', 'BORO', 'PRECINCT',\n",
       "       'JURISDICTION_CODE', 'LOCATION_DESC', 'STATISTICAL_MURDER_FLAG',\n",
       "       'PERP_AGE_GROUP', 'PERP_SEX', 'PERP_RACE', 'VIC_AGE_GROUP', 'VIC_SEX',\n",
       "       'VIC_RACE', 'X_COORD_CD', 'Y_COORD_CD', 'Latitude', 'Longitude',\n",
       "       'Lon_Lat'],\n",
       "      dtype='object')"
      ]
     },
     "execution_count": 4,
     "metadata": {},
     "output_type": "execute_result"
    }
   ],
   "source": [
    "#checking the columns of the of data\n",
    "shootings.columns"
   ]
  },
  {
   "cell_type": "code",
   "execution_count": 5,
   "metadata": {},
   "outputs": [
    {
     "data": {
      "text/plain": [
       "Index(['INCIDENT_KEY', 'OCCUR_DATE', 'OCCUR_TIME', 'BORO', 'PRECINCT',\n",
       "       'JURISDICTION_CODE', 'LOCATION_DESC', 'STATISTICAL_MURDER_FLAG',\n",
       "       'PERP_AGE_GROUP', 'PERP_SEX', 'PERP_RACE', 'VIC_AGE_GROUP', 'VIC_SEX',\n",
       "       'VIC_RACE', 'X_COORD_CD', 'Y_COORD_CD', 'Latitude', 'Longitude',\n",
       "       'Lon_Lat', 'MONTH_YEAR', 'YEAR'],\n",
       "      dtype='object')"
      ]
     },
     "execution_count": 5,
     "metadata": {},
     "output_type": "execute_result"
    }
   ],
   "source": [
    "#creating a MONTH_YEAR and YEAR column to extract the month and year information from the OCCUR_DATE column\n",
    "shootings['MONTH_YEAR'] = pd.to_datetime(shootings['OCCUR_DATE']).dt.to_period('M')\n",
    "shootings['YEAR'] = pd.DatetimeIndex(shootings['OCCUR_DATE']).year\n",
    "shootings.columns"
   ]
  },
  {
   "cell_type": "code",
   "execution_count": 6,
   "metadata": {},
   "outputs": [
    {
     "data": {
      "text/html": [
       "<div>\n",
       "<style scoped>\n",
       "    .dataframe tbody tr th:only-of-type {\n",
       "        vertical-align: middle;\n",
       "    }\n",
       "\n",
       "    .dataframe tbody tr th {\n",
       "        vertical-align: top;\n",
       "    }\n",
       "\n",
       "    .dataframe thead th {\n",
       "        text-align: right;\n",
       "    }\n",
       "</style>\n",
       "<table border=\"1\" class=\"dataframe\">\n",
       "  <thead>\n",
       "    <tr style=\"text-align: right;\">\n",
       "      <th></th>\n",
       "      <th>OCCUR_DATE</th>\n",
       "      <th>YEAR</th>\n",
       "      <th>MONTH_YEAR</th>\n",
       "    </tr>\n",
       "  </thead>\n",
       "  <tbody>\n",
       "    <tr>\n",
       "      <th>0</th>\n",
       "      <td>08/23/2019</td>\n",
       "      <td>2019</td>\n",
       "      <td>2019-08</td>\n",
       "    </tr>\n",
       "    <tr>\n",
       "      <th>1</th>\n",
       "      <td>11/27/2019</td>\n",
       "      <td>2019</td>\n",
       "      <td>2019-11</td>\n",
       "    </tr>\n",
       "    <tr>\n",
       "      <th>2</th>\n",
       "      <td>02/02/2019</td>\n",
       "      <td>2019</td>\n",
       "      <td>2019-02</td>\n",
       "    </tr>\n",
       "    <tr>\n",
       "      <th>3</th>\n",
       "      <td>10/24/2019</td>\n",
       "      <td>2019</td>\n",
       "      <td>2019-10</td>\n",
       "    </tr>\n",
       "    <tr>\n",
       "      <th>4</th>\n",
       "      <td>08/22/2019</td>\n",
       "      <td>2019</td>\n",
       "      <td>2019-08</td>\n",
       "    </tr>\n",
       "    <tr>\n",
       "      <th>...</th>\n",
       "      <td>...</td>\n",
       "      <td>...</td>\n",
       "      <td>...</td>\n",
       "    </tr>\n",
       "    <tr>\n",
       "      <th>23563</th>\n",
       "      <td>08/21/2020</td>\n",
       "      <td>2020</td>\n",
       "      <td>2020-08</td>\n",
       "    </tr>\n",
       "    <tr>\n",
       "      <th>23564</th>\n",
       "      <td>07/03/2020</td>\n",
       "      <td>2020</td>\n",
       "      <td>2020-07</td>\n",
       "    </tr>\n",
       "    <tr>\n",
       "      <th>23565</th>\n",
       "      <td>11/21/2020</td>\n",
       "      <td>2020</td>\n",
       "      <td>2020-11</td>\n",
       "    </tr>\n",
       "    <tr>\n",
       "      <th>23566</th>\n",
       "      <td>01/18/2020</td>\n",
       "      <td>2020</td>\n",
       "      <td>2020-01</td>\n",
       "    </tr>\n",
       "    <tr>\n",
       "      <th>23567</th>\n",
       "      <td>11/21/2020</td>\n",
       "      <td>2020</td>\n",
       "      <td>2020-11</td>\n",
       "    </tr>\n",
       "  </tbody>\n",
       "</table>\n",
       "<p>7471 rows × 3 columns</p>\n",
       "</div>"
      ],
      "text/plain": [
       "       OCCUR_DATE  YEAR MONTH_YEAR\n",
       "0      08/23/2019  2019    2019-08\n",
       "1      11/27/2019  2019    2019-11\n",
       "2      02/02/2019  2019    2019-02\n",
       "3      10/24/2019  2019    2019-10\n",
       "4      08/22/2019  2019    2019-08\n",
       "...           ...   ...        ...\n",
       "23563  08/21/2020  2020    2020-08\n",
       "23564  07/03/2020  2020    2020-07\n",
       "23565  11/21/2020  2020    2020-11\n",
       "23566  01/18/2020  2020    2020-01\n",
       "23567  11/21/2020  2020    2020-11\n",
       "\n",
       "[7471 rows x 3 columns]"
      ]
     },
     "execution_count": 6,
     "metadata": {},
     "output_type": "execute_result"
    }
   ],
   "source": [
    "#create dataframe of incidents data from 2015 onwards\n",
    "shootings2015 = shootings[shootings['YEAR'] > 2014]\n",
    "shootings2015[['OCCUR_DATE','YEAR','MONTH_YEAR']]"
   ]
  },
  {
   "cell_type": "code",
   "execution_count": 7,
   "metadata": {},
   "outputs": [
    {
     "data": {
      "text/html": [
       "<div>\n",
       "<style scoped>\n",
       "    .dataframe tbody tr th:only-of-type {\n",
       "        vertical-align: middle;\n",
       "    }\n",
       "\n",
       "    .dataframe tbody tr th {\n",
       "        vertical-align: top;\n",
       "    }\n",
       "\n",
       "    .dataframe thead th {\n",
       "        text-align: right;\n",
       "    }\n",
       "</style>\n",
       "<table border=\"1\" class=\"dataframe\">\n",
       "  <thead>\n",
       "    <tr style=\"text-align: right;\">\n",
       "      <th></th>\n",
       "      <th>YEAR</th>\n",
       "      <th>INCIDENT_COUNT</th>\n",
       "    </tr>\n",
       "  </thead>\n",
       "  <tbody>\n",
       "    <tr>\n",
       "      <th>0</th>\n",
       "      <td>2015</td>\n",
       "      <td>1434</td>\n",
       "    </tr>\n",
       "    <tr>\n",
       "      <th>1</th>\n",
       "      <td>2016</td>\n",
       "      <td>1208</td>\n",
       "    </tr>\n",
       "    <tr>\n",
       "      <th>2</th>\n",
       "      <td>2017</td>\n",
       "      <td>969</td>\n",
       "    </tr>\n",
       "    <tr>\n",
       "      <th>3</th>\n",
       "      <td>2018</td>\n",
       "      <td>951</td>\n",
       "    </tr>\n",
       "    <tr>\n",
       "      <th>4</th>\n",
       "      <td>2019</td>\n",
       "      <td>967</td>\n",
       "    </tr>\n",
       "    <tr>\n",
       "      <th>5</th>\n",
       "      <td>2020</td>\n",
       "      <td>1942</td>\n",
       "    </tr>\n",
       "  </tbody>\n",
       "</table>\n",
       "</div>"
      ],
      "text/plain": [
       "   YEAR  INCIDENT_COUNT\n",
       "0  2015            1434\n",
       "1  2016            1208\n",
       "2  2017             969\n",
       "3  2018             951\n",
       "4  2019             967\n",
       "5  2020            1942"
      ]
     },
     "execution_count": 7,
     "metadata": {},
     "output_type": "execute_result"
    }
   ],
   "source": [
    "# creating a new dataframe timeseries_year to group incidents by year\n",
    "timeseries_year = shootings2015.groupby(shootings['YEAR'])\n",
    "timeseries_year = pd.DataFrame(timeseries_year.size().reset_index(name = \"INCIDENT_COUNT\"))\n",
    "timeseries_year"
   ]
  },
  {
   "cell_type": "code",
   "execution_count": 8,
   "metadata": {},
   "outputs": [
    {
     "data": {
      "image/png": "[encoded data removed]",
      "text/plain": [
       "<Figure size 720x504 with 1 Axes>"
      ]
     },
     "metadata": {
      "needs_background": "light"
     },
     "output_type": "display_data"
    }
   ],
   "source": [
    "# plotting the incident trend over years\n",
    "fig, ax = plt.subplots(figsize=(10, 7))\n",
    "\n",
    "\n",
    "x = timeseries_year['YEAR']\n",
    "y = timeseries_year['INCIDENT_COUNT']\n",
    "\n",
    "plt.plot(x,y,marker = 'o')\n",
    "plt.title('Number of shooting incidents over year', fontsize = 18)\n",
    "plt.xlabel('Year', fontsize = 16)\n",
    "plt.ylabel('Incident number', fontsize = 16)\n",
    "\n",
    "\n",
    "for X,Y in zip(x,y):\n",
    "\n",
    "    label = \"{:.0f}\".format(Y)\n",
    "\n",
    "    plt.annotate(label, \n",
    "                 (X,Y), \n",
    "                 textcoords=\"offset points\",\n",
    "                 xytext=(0,-15), \n",
    "                 ha='center') \n",
    "\n",
    "plt.show()\n"
   ]
  },
  {
   "cell_type": "code",
   "execution_count": 9,
   "metadata": {
    "scrolled": true
   },
   "outputs": [
    {
     "data": {
      "text/html": [
       "<div>\n",
       "<style scoped>\n",
       "    .dataframe tbody tr th:only-of-type {\n",
       "        vertical-align: middle;\n",
       "    }\n",
       "\n",
       "    .dataframe tbody tr th {\n",
       "        vertical-align: top;\n",
       "    }\n",
       "\n",
       "    .dataframe thead th {\n",
       "        text-align: right;\n",
       "    }\n",
       "</style>\n",
       "<table border=\"1\" class=\"dataframe\">\n",
       "  <thead>\n",
       "    <tr style=\"text-align: right;\">\n",
       "      <th></th>\n",
       "      <th>MONTH_YEAR</th>\n",
       "      <th>INCIDENT_COUNT</th>\n",
       "    </tr>\n",
       "  </thead>\n",
       "  <tbody>\n",
       "    <tr>\n",
       "      <th>0</th>\n",
       "      <td>2015-01</td>\n",
       "      <td>117</td>\n",
       "    </tr>\n",
       "    <tr>\n",
       "      <th>1</th>\n",
       "      <td>2015-02</td>\n",
       "      <td>68</td>\n",
       "    </tr>\n",
       "    <tr>\n",
       "      <th>2</th>\n",
       "      <td>2015-03</td>\n",
       "      <td>93</td>\n",
       "    </tr>\n",
       "    <tr>\n",
       "      <th>3</th>\n",
       "      <td>2015-04</td>\n",
       "      <td>106</td>\n",
       "    </tr>\n",
       "    <tr>\n",
       "      <th>4</th>\n",
       "      <td>2015-05</td>\n",
       "      <td>181</td>\n",
       "    </tr>\n",
       "    <tr>\n",
       "      <th>...</th>\n",
       "      <td>...</td>\n",
       "      <td>...</td>\n",
       "    </tr>\n",
       "    <tr>\n",
       "      <th>67</th>\n",
       "      <td>2020-08</td>\n",
       "      <td>312</td>\n",
       "    </tr>\n",
       "    <tr>\n",
       "      <th>68</th>\n",
       "      <td>2020-09</td>\n",
       "      <td>186</td>\n",
       "    </tr>\n",
       "    <tr>\n",
       "      <th>69</th>\n",
       "      <td>2020-10</td>\n",
       "      <td>168</td>\n",
       "    </tr>\n",
       "    <tr>\n",
       "      <th>70</th>\n",
       "      <td>2020-11</td>\n",
       "      <td>138</td>\n",
       "    </tr>\n",
       "    <tr>\n",
       "      <th>71</th>\n",
       "      <td>2020-12</td>\n",
       "      <td>131</td>\n",
       "    </tr>\n",
       "  </tbody>\n",
       "</table>\n",
       "<p>72 rows × 2 columns</p>\n",
       "</div>"
      ],
      "text/plain": [
       "   MONTH_YEAR  INCIDENT_COUNT\n",
       "0     2015-01             117\n",
       "1     2015-02              68\n",
       "2     2015-03              93\n",
       "3     2015-04             106\n",
       "4     2015-05             181\n",
       "..        ...             ...\n",
       "67    2020-08             312\n",
       "68    2020-09             186\n",
       "69    2020-10             168\n",
       "70    2020-11             138\n",
       "71    2020-12             131\n",
       "\n",
       "[72 rows x 2 columns]"
      ]
     },
     "execution_count": 9,
     "metadata": {},
     "output_type": "execute_result"
    }
   ],
   "source": [
    "# creating a new dataframe timeseries_year to group incidents by month and year\n",
    "timeseries_monthyear = shootings2015.groupby(shootings['MONTH_YEAR'].dt.strftime('%Y-%m'))\n",
    "timeseries_monthyear = pd.DataFrame(timeseries_monthyear.size().reset_index(name = \"INCIDENT_COUNT\"))\n",
    "timeseries_monthyear"
   ]
  },
  {
   "cell_type": "code",
   "execution_count": 10,
   "metadata": {},
   "outputs": [
    {
     "data": {
      "image/png": "[encoded data removed]",
      "text/plain": [
       "<Figure size 720x432 with 1 Axes>"
      ]
     },
     "metadata": {
      "needs_background": "light"
     },
     "output_type": "display_data"
    }
   ],
   "source": [
    "# plotting the incident trend over years\n",
    "fig, ax = plt.subplots(figsize=(10, 6))\n",
    "\n",
    "x = timeseries_monthyear['MONTH_YEAR']\n",
    "y = timeseries_monthyear['INCIDENT_COUNT']\n",
    "\n",
    "plt.plot(x,y,marker = 'o')\n",
    "plt.title('Number of shooting incidents over month and year', fontsize = 18)\n",
    "plt.xlabel('Year', fontsize = 16)\n",
    "plt.ylabel('Incident number', fontsize = 16)\n",
    "plt.xticks(rotation='vertical')\n",
    "ax.xaxis.set_major_locator(plt.IndexLocator(3, 0))\n",
    "plt.show()\n"
   ]
  },
  {
   "cell_type": "markdown",
   "metadata": {},
   "source": [
    "# Q2: What is the profile of perpetrators of shootings in NYC?"
   ]
  },
  {
   "cell_type": "code",
   "execution_count": 11,
   "metadata": {},
   "outputs": [
    {
     "data": {
      "text/plain": [
       "<AxesSubplot:title={'center':'Incident count by perpetuator age'}, xlabel='PERP_AGE_GROUP'>"
      ]
     },
     "execution_count": 11,
     "metadata": {},
     "output_type": "execute_result"
    },
    {
     "data": {
      "image/png": "[encoded data removed]",
      "text/plain": [
       "<Figure size 432x288 with 1 Axes>"
      ]
     },
     "metadata": {
      "needs_background": "light"
     },
     "output_type": "display_data"
    }
   ],
   "source": [
    "# showing number of incidents perpetuated by each age group\n",
    "shootings2015.groupby(shootings['PERP_AGE_GROUP']).size().sort_values(ascending = False).plot(\n",
    "    kind='bar', title= 'Incident count by perpetuator age')"
   ]
  },
  {
   "cell_type": "code",
   "execution_count": 12,
   "metadata": {
    "scrolled": true
   },
   "outputs": [
    {
     "data": {
      "text/plain": [
       "<AxesSubplot:title={'center':'Incident count by perpetuator sex'}, xlabel='PERP_SEX'>"
      ]
     },
     "execution_count": 12,
     "metadata": {},
     "output_type": "execute_result"
    },
    {
     "data": {
      "image/png": "[encoded data removed]",
      "text/plain": [
       "<Figure size 432x288 with 1 Axes>"
      ]
     },
     "metadata": {
      "needs_background": "light"
     },
     "output_type": "display_data"
    }
   ],
   "source": [
    "# showing number of incidents by the sex of perpetuator\n",
    "shootings2015.groupby(shootings['PERP_SEX']).size().sort_values(ascending = False).plot(\n",
    "    kind='bar', title= 'Incident count by perpetuator sex')"
   ]
  },
  {
   "cell_type": "code",
   "execution_count": 13,
   "metadata": {},
   "outputs": [
    {
     "data": {
      "text/plain": [
       "<AxesSubplot:title={'center':'Incident count by perpetuator race'}, xlabel='PERP_RACE'>"
      ]
     },
     "execution_count": 13,
     "metadata": {},
     "output_type": "execute_result"
    },
    {
     "data": {
      "image/png": "[encoded data removed]",
      "text/plain": [
       "<Figure size 432x288 with 1 Axes>"
      ]
     },
     "metadata": {
      "needs_background": "light"
     },
     "output_type": "display_data"
    }
   ],
   "source": [
    "# showing number of incidents by the race of perpetuator\n",
    "shootings2015.groupby(shootings['PERP_RACE']).size().sort_values(ascending = False).plot(\n",
    "    kind='bar', title= 'Incident count by perpetuator race', rot = 90)"
   ]
  },
  {
   "cell_type": "code",
   "execution_count": 14,
   "metadata": {},
   "outputs": [
    {
     "data": {
      "text/html": [
       "<div>\n",
       "<style scoped>\n",
       "    .dataframe tbody tr th:only-of-type {\n",
       "        vertical-align: middle;\n",
       "    }\n",
       "\n",
       "    .dataframe tbody tr th {\n",
       "        vertical-align: top;\n",
       "    }\n",
       "\n",
       "    .dataframe thead th {\n",
       "        text-align: right;\n",
       "    }\n",
       "</style>\n",
       "<table border=\"1\" class=\"dataframe\">\n",
       "  <thead>\n",
       "    <tr style=\"text-align: right;\">\n",
       "      <th></th>\n",
       "      <th>PERP_AGE_GROUP</th>\n",
       "      <th>PERP_SEX</th>\n",
       "      <th>PERP_RACE</th>\n",
       "      <th>INCIDENT_COUNT</th>\n",
       "    </tr>\n",
       "  </thead>\n",
       "  <tbody>\n",
       "    <tr>\n",
       "      <th>0</th>\n",
       "      <td>25-44</td>\n",
       "      <td>M</td>\n",
       "      <td>BLACK</td>\n",
       "      <td>1172</td>\n",
       "    </tr>\n",
       "    <tr>\n",
       "      <th>1</th>\n",
       "      <td>18-24</td>\n",
       "      <td>M</td>\n",
       "      <td>BLACK</td>\n",
       "      <td>987</td>\n",
       "    </tr>\n",
       "    <tr>\n",
       "      <th>2</th>\n",
       "      <td>25-44</td>\n",
       "      <td>M</td>\n",
       "      <td>WHITE HISPANIC</td>\n",
       "      <td>266</td>\n",
       "    </tr>\n",
       "    <tr>\n",
       "      <th>3</th>\n",
       "      <td>&lt;18</td>\n",
       "      <td>M</td>\n",
       "      <td>BLACK</td>\n",
       "      <td>252</td>\n",
       "    </tr>\n",
       "    <tr>\n",
       "      <th>4</th>\n",
       "      <td>18-24</td>\n",
       "      <td>M</td>\n",
       "      <td>WHITE HISPANIC</td>\n",
       "      <td>240</td>\n",
       "    </tr>\n",
       "    <tr>\n",
       "      <th>5</th>\n",
       "      <td>45-64</td>\n",
       "      <td>M</td>\n",
       "      <td>BLACK</td>\n",
       "      <td>144</td>\n",
       "    </tr>\n",
       "    <tr>\n",
       "      <th>6</th>\n",
       "      <td>18-24</td>\n",
       "      <td>M</td>\n",
       "      <td>BLACK HISPANIC</td>\n",
       "      <td>136</td>\n",
       "    </tr>\n",
       "    <tr>\n",
       "      <th>7</th>\n",
       "      <td>25-44</td>\n",
       "      <td>M</td>\n",
       "      <td>BLACK HISPANIC</td>\n",
       "      <td>127</td>\n",
       "    </tr>\n",
       "    <tr>\n",
       "      <th>8</th>\n",
       "      <td>&lt;18</td>\n",
       "      <td>M</td>\n",
       "      <td>WHITE HISPANIC</td>\n",
       "      <td>49</td>\n",
       "    </tr>\n",
       "    <tr>\n",
       "      <th>9</th>\n",
       "      <td>25-44</td>\n",
       "      <td>F</td>\n",
       "      <td>BLACK</td>\n",
       "      <td>44</td>\n",
       "    </tr>\n",
       "  </tbody>\n",
       "</table>\n",
       "</div>"
      ],
      "text/plain": [
       "  PERP_AGE_GROUP PERP_SEX       PERP_RACE  INCIDENT_COUNT\n",
       "0          25-44        M           BLACK            1172\n",
       "1          18-24        M           BLACK             987\n",
       "2          25-44        M  WHITE HISPANIC             266\n",
       "3            <18        M           BLACK             252\n",
       "4          18-24        M  WHITE HISPANIC             240\n",
       "5          45-64        M           BLACK             144\n",
       "6          18-24        M  BLACK HISPANIC             136\n",
       "7          25-44        M  BLACK HISPANIC             127\n",
       "8            <18        M  WHITE HISPANIC              49\n",
       "9          25-44        F           BLACK              44"
      ]
     },
     "execution_count": 14,
     "metadata": {},
     "output_type": "execute_result"
    }
   ],
   "source": [
    "# understanding the intersectional identify of perpetuator\n",
    "perpetrator = shootings2015.groupby(['PERP_AGE_GROUP','PERP_SEX','PERP_RACE'])\n",
    "perpetrator = pd.DataFrame(perpetrator.size().sort_values(ascending = False).reset_index(name = \"INCIDENT_COUNT\"))\n",
    "perpetrator.head(10)"
   ]
  },
  {
   "cell_type": "code",
   "execution_count": 16,
   "metadata": {},
   "outputs": [
    {
     "data": {
      "text/html": [
       "<div>\n",
       "<style scoped>\n",
       "    .dataframe tbody tr th:only-of-type {\n",
       "        vertical-align: middle;\n",
       "    }\n",
       "\n",
       "    .dataframe tbody tr th {\n",
       "        vertical-align: top;\n",
       "    }\n",
       "\n",
       "    .dataframe thead th {\n",
       "        text-align: right;\n",
       "    }\n",
       "</style>\n",
       "<table border=\"1\" class=\"dataframe\">\n",
       "  <thead>\n",
       "    <tr style=\"text-align: right;\">\n",
       "      <th></th>\n",
       "      <th>PERP</th>\n",
       "      <th>INCIDENT_COUNT</th>\n",
       "    </tr>\n",
       "  </thead>\n",
       "  <tbody>\n",
       "    <tr>\n",
       "      <th>0</th>\n",
       "      <td>25-44, M</td>\n",
       "      <td>1172</td>\n",
       "    </tr>\n",
       "    <tr>\n",
       "      <th>1</th>\n",
       "      <td>18-24, M</td>\n",
       "      <td>987</td>\n",
       "    </tr>\n",
       "    <tr>\n",
       "      <th>2</th>\n",
       "      <td>25-44, M</td>\n",
       "      <td>266</td>\n",
       "    </tr>\n",
       "    <tr>\n",
       "      <th>3</th>\n",
       "      <td>&lt;18, M</td>\n",
       "      <td>252</td>\n",
       "    </tr>\n",
       "    <tr>\n",
       "      <th>4</th>\n",
       "      <td>18-24, M</td>\n",
       "      <td>240</td>\n",
       "    </tr>\n",
       "    <tr>\n",
       "      <th>5</th>\n",
       "      <td>45-64, M</td>\n",
       "      <td>144</td>\n",
       "    </tr>\n",
       "    <tr>\n",
       "      <th>6</th>\n",
       "      <td>18-24, M</td>\n",
       "      <td>136</td>\n",
       "    </tr>\n",
       "    <tr>\n",
       "      <th>7</th>\n",
       "      <td>25-44, M</td>\n",
       "      <td>127</td>\n",
       "    </tr>\n",
       "    <tr>\n",
       "      <th>8</th>\n",
       "      <td>&lt;18, M</td>\n",
       "      <td>49</td>\n",
       "    </tr>\n",
       "    <tr>\n",
       "      <th>9</th>\n",
       "      <td>25-44, F</td>\n",
       "      <td>44</td>\n",
       "    </tr>\n",
       "  </tbody>\n",
       "</table>\n",
       "</div>"
      ],
      "text/plain": [
       "       PERP  INCIDENT_COUNT\n",
       "0  25-44, M            1172\n",
       "1  18-24, M             987\n",
       "2  25-44, M             266\n",
       "3    <18, M             252\n",
       "4  18-24, M             240\n",
       "5  45-64, M             144\n",
       "6  18-24, M             136\n",
       "7  25-44, M             127\n",
       "8    <18, M              49\n",
       "9  25-44, F              44"
      ]
     },
     "execution_count": 16,
     "metadata": {},
     "output_type": "execute_result"
    }
   ],
   "source": [
    "# looking at the top 10 groups of perpetuator especially age group and sex which are more relevant to our later analysis\n",
    "perpetrator['PERP'] = perpetrator['PERP_AGE_GROUP'] + ', ' + perpetrator['PERP_SEX'] \n",
    "top_perpetrator = perpetrator.head(10)\n",
    "del top_perpetrator['PERP_AGE_GROUP'] , top_perpetrator['PERP_SEX']\n",
    "top_perpetrator = top_perpetrator[['PERP','INCIDENT_COUNT']]\n",
    "top_perpetrator"
   ]
  },
  {
   "cell_type": "code",
   "execution_count": 18,
   "metadata": {},
   "outputs": [
    {
     "data": {
      "image/png": "[encoded data removed]",
      "text/plain": [
       "<Figure size 720x432 with 1 Axes>"
      ]
     },
     "metadata": {
      "needs_background": "light"
     },
     "output_type": "display_data"
    }
   ],
   "source": [
    "# plot graph\n",
    "\n",
    "x = np.arange(len(top_perpetrator.index))  # the label locations\n",
    "width = 0.35  # the width of the bars\n",
    "\n",
    "fig, ax = plt.subplots(figsize=(10, 6))\n",
    "ax.bar(x - width/2, top_perpetrator['INCIDENT_COUNT'], width)\n",
    "\n",
    "# Add some text for labels, title and custom x-axis tick labels, etc.\n",
    "ax.set_xlabel('Perpetrator groups', fontsize = 16)\n",
    "ax.set_ylabel('Incident count', fontsize = 16)\n",
    "ax.set_title('Top 10 perpetrator profiles', fontsize = 18)\n",
    "ax.set_xticks(x)\n",
    "ax.set_xticklabels(top_perpetrator.PERP, rotation = 90, fontsize = 12)\n",
    "\n",
    "plt.show()"
   ]
  },
  {
   "cell_type": "code",
   "execution_count": null,
   "metadata": {},
   "outputs": [],
   "source": []
  },
  {
   "cell_type": "code",
   "execution_count": null,
   "metadata": {},
   "outputs": [],
   "source": []
  },
  {
   "cell_type": "code",
   "execution_count": null,
   "metadata": {},
   "outputs": [],
   "source": []
  }
 ],
 "metadata": {
  "kernelspec": {
   "display_name": "Python 3",
   "language": "python",
   "name": "python3"
  },
  "language_info": {
   "codemirror_mode": {
    "name": "ipython",
    "version": 3
   },
   "file_extension": ".py",
   "mimetype": "text/x-python",
   "name": "python",
   "nbconvert_exporter": "python",
   "pygments_lexer": "ipython3",
   "version": "3.8.5"
  }
 },
 "nbformat": 4,
 "nbformat_minor": 4
}
